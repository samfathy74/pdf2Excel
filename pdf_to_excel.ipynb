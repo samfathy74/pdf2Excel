{
 "cells": [
  {
   "cell_type": "code",
   "execution_count": 826,
   "metadata": {},
   "outputs": [],
   "source": [
    "import PyPDF2 as pypdf\n",
    "import pandas as pd\n",
    "import re"
   ]
  },
  {
   "cell_type": "markdown",
   "metadata": {},
   "source": [
    "``` \n",
    "Question No:n\n",
    "Question Contant?\n",
    "A.\n",
    "B.\n",
    "C.\n",
    "D.\n",
    "Answer:\n",
    "Explanation:\n",
    "```"
   ]
  },
  {
   "cell_type": "code",
   "execution_count": 451,
   "metadata": {},
   "outputs": [],
   "source": [
    "def readFile(filePath):\n",
    "    try:\n",
    "        with open(filePath, 'rb') as file:\n",
    "            pdfFile = pypdf.PdfFileReader(file)\n",
    "            pagesNum = pdfFile.numPages\n",
    "            pagesContect=''\n",
    "            print('reading file please wait...')\n",
    "            time.sleep(2)\n",
    "            \n",
    "            for num in range(pagesNum):\n",
    "                pagesContect+=pdfFile.getPage(pageNumber=num).extract_text().replace('\\n', '')\n",
    "            else : print('Successfully read PDF file..')\n",
    "            return pagesContect\n",
    "    except:\n",
    "        print('enter corret path of pdf file')"
   ]
  },
  {
   "cell_type": "code",
   "execution_count": 452,
   "metadata": {},
   "outputs": [],
   "source": [
    "def extractQuestions(fileContent):\n",
    "    qusetionNum = re.findall('Question No: ?\\d', fileContent)\n",
    "\n",
    "    questions = dict()\n",
    "\n",
    "    for i, q in enumerate(qusetionNum):\n",
    "        if q != qusetionNum[-1]:\n",
    "            x = re.findall(f'(?=Question No: ?{i+1})(.*)(?= Question No: ?{i+2} )', fileContent)\n",
    "            questions[i+1] = x\n",
    "        else:\n",
    "            x = re.findall(f'(?=Question No: ?{i+1})(.*)(?=.)', fileContent)\n",
    "            questions[i+1] = x\n",
    "    else : print('Successfully extraction text from PDF file..')\n",
    "    return questions"
   ]
  },
  {
   "cell_type": "code",
   "execution_count": 818,
   "metadata": {},
   "outputs": [],
   "source": [
    "def prepareQuestion(questions):\n",
    "    answer, explan, question, tempQ = [], [], [], []\n",
    "    answerA, answerB, answerC, answerD = [],  [], [],  []\n",
    "\n",
    "    # get answers\n",
    "    for i, n in enumerate(questions.keys()):\n",
    "\n",
    "        tempQ.append(str(re.findall(f'(?=\\\\bQuestion No\\: ?{i+1})(.*)(?=\\\\bA\\.)', str(questions[n]))).strip('[]'))\n",
    "        question.append(re.compile(f'(Question No\\: ?{i+1})').sub('', tempQ[i]).strip(\"'\"))\n",
    "        \n",
    "        answer.append(re.findall(f'(?<=Answer\\:)(.*)(?=Explanation\\:)', str(questions[n])))\n",
    "        explan.append(re.findall(f'(?<=\\\\bExplanation\\:)(.*)', str(questions[n])))\n",
    "        answerA.append(re.findall(f'(?<=\\\\bA\\.)(.*)(?=\\\\bB\\.)', str(questions[n])))\n",
    "        answerB.append(re.findall(f'(?<=\\\\bB\\.)(.*)(?=\\\\bC\\.)', str(questions[n])))\n",
    "        answerC.append(re.findall(f'(?<=\\\\bC\\.)(.*)(?=\\\\bD\\.)', str(questions[n])))\n",
    "        answerD.append(re.findall(f'(?<=\\\\bD\\.)(.*)(?=\\\\bAnswer\\:)', str(questions[n])))\n",
    "        \n",
    "    return question, answer, explan, answerA, answerB, answerC, answerD"
   ]
  },
  {
   "cell_type": "code",
   "execution_count": 813,
   "metadata": {},
   "outputs": [
    {
     "name": "stdout",
     "output_type": "stream",
     "text": [
      "reading file please wait...\n",
      "Successfully read PDF file..\n"
     ]
    }
   ],
   "source": [
    "fileContant = readFile(r'myPdf.pdf')"
   ]
  },
  {
   "cell_type": "code",
   "execution_count": 814,
   "metadata": {},
   "outputs": [
    {
     "name": "stdout",
     "output_type": "stream",
     "text": [
      "Successfully extraction text from PDF file..\n"
     ]
    }
   ],
   "source": [
    "extactContant = extractQuestions(fileContant)"
   ]
  },
  {
   "cell_type": "code",
   "execution_count": 819,
   "metadata": {},
   "outputs": [],
   "source": [
    "question, answer, explan, answerA, answerB, answerC, answerD = prepareQuestion(extactContant)"
   ]
  },
  {
   "cell_type": "code",
   "execution_count": 823,
   "metadata": {},
   "outputs": [],
   "source": [
    "dit = dict(\n",
    "    {\n",
    "        # 'Question':[item for sublist in question for item in sublist],\n",
    "        'Question':question,\n",
    "        'answerA': [item for sublist in answerA for item in sublist],\n",
    "        'answerB':[item for sublist in answerB for item in sublist],\n",
    "        'answerC':[item for sublist in answerC for item in sublist],\n",
    "        'answerD':[item for sublist in answerD for item in sublist],\n",
    "        'Answer': [item for sublist in answer for item in sublist],\n",
    "        'Explanation': [item for sublist in explan for item in sublist],\n",
    "    }\n",
    ")"
   ]
  },
  {
   "cell_type": "code",
   "execution_count": 825,
   "metadata": {},
   "outputs": [
    {
     "data": {
      "text/html": [
       "<div>\n",
       "<style scoped>\n",
       "    .dataframe tbody tr th:only-of-type {\n",
       "        vertical-align: middle;\n",
       "    }\n",
       "\n",
       "    .dataframe tbody tr th {\n",
       "        vertical-align: top;\n",
       "    }\n",
       "\n",
       "    .dataframe thead th {\n",
       "        text-align: right;\n",
       "    }\n",
       "</style>\n",
       "<table border=\"1\" class=\"dataframe\">\n",
       "  <thead>\n",
       "    <tr style=\"text-align: right;\">\n",
       "      <th></th>\n",
       "      <th>Question</th>\n",
       "      <th>answerA</th>\n",
       "      <th>answerB</th>\n",
       "      <th>answerC</th>\n",
       "      <th>answerD</th>\n",
       "      <th>Answer</th>\n",
       "      <th>Explanation</th>\n",
       "    </tr>\n",
       "  </thead>\n",
       "  <tbody>\n",
       "    <tr>\n",
       "      <th>0</th>\n",
       "      <td>You are the cluster administrator for your co...</td>\n",
       "      <td>For the Cluster group, create 10IP Address re...</td>\n",
       "      <td>For Disk group1, create oneIP Address resourc...</td>\n",
       "      <td>For Disk group1, create oneIP Address resourc...</td>\n",
       "      <td>For the Cluster group, create 10IP Address re...</td>\n",
       "      <td>B</td>\n",
       "      <td>To ensurethat users can still use their old s...</td>\n",
       "    </tr>\n",
       "    <tr>\n",
       "      <th>1</th>\n",
       "      <td>You are the administrator of aWindows 2000 Ad...</td>\n",
       "      <td>Use Windows Explorer to reassign share-levelp...</td>\n",
       "      <td>Use the cluster administrator to reassign sha...</td>\n",
       "      <td>Use dynamic file shares to remove and then re...</td>\n",
       "      <td>In the Advanced FileShare Properties dialogbox...</td>\n",
       "      <td>B</td>\n",
       "      <td>In order for users to access the shares after...</td>\n",
       "    </tr>\n",
       "    <tr>\n",
       "      <th>2</th>\n",
       "      <td>You are the administrator of anew Windows 200...</td>\n",
       "      <td>Add a Network Name resource to the Services R...</td>\n",
       "      <td>Add one Generic Service resource to the Servi...</td>\n",
       "      <td>Add a second IP Address resource to the Servi...</td>\n",
       "      <td>Add two Generic Service resources to the Serv...</td>\n",
       "      <td>A</td>\n",
       "      <td>Wheneveryou create a resource ona cluster you...</td>\n",
       "    </tr>\n",
       "  </tbody>\n",
       "</table>\n",
       "</div>"
      ],
      "text/plain": [
       "                                            Question  \\\n",
       "0   You are the cluster administrator for your co...   \n",
       "1   You are the administrator of aWindows 2000 Ad...   \n",
       "2   You are the administrator of anew Windows 200...   \n",
       "\n",
       "                                             answerA  \\\n",
       "0   For the Cluster group, create 10IP Address re...   \n",
       "1   Use Windows Explorer to reassign share-levelp...   \n",
       "2   Add a Network Name resource to the Services R...   \n",
       "\n",
       "                                             answerB  \\\n",
       "0   For Disk group1, create oneIP Address resourc...   \n",
       "1   Use the cluster administrator to reassign sha...   \n",
       "2   Add one Generic Service resource to the Servi...   \n",
       "\n",
       "                                             answerC  \\\n",
       "0   For Disk group1, create oneIP Address resourc...   \n",
       "1   Use dynamic file shares to remove and then re...   \n",
       "2   Add a second IP Address resource to the Servi...   \n",
       "\n",
       "                                             answerD Answer  \\\n",
       "0   For the Cluster group, create 10IP Address re...     B    \n",
       "1  In the Advanced FileShare Properties dialogbox...     B    \n",
       "2   Add two Generic Service resources to the Serv...     A    \n",
       "\n",
       "                                         Explanation  \n",
       "0   To ensurethat users can still use their old s...  \n",
       "1   In order for users to access the shares after...  \n",
       "2   Wheneveryou create a resource ona cluster you...  "
      ]
     },
     "execution_count": 825,
     "metadata": {},
     "output_type": "execute_result"
    }
   ],
   "source": [
    "pd.DataFrame(dit).to_csv('output.csv')"
   ]
  },
  {
   "cell_type": "code",
   "execution_count": null,
   "metadata": {},
   "outputs": [],
   "source": []
  }
 ],
 "metadata": {
  "interpreter": {
   "hash": "916dbcbb3f70747c44a77c7bcd40155683ae19c65e1c03b4aa3499c5328201f1"
  },
  "kernelspec": {
   "display_name": "Python 3.8.10 64-bit",
   "language": "python",
   "name": "python3"
  },
  "language_info": {
   "codemirror_mode": {
    "name": "ipython",
    "version": 3
   },
   "file_extension": ".py",
   "mimetype": "text/x-python",
   "name": "python",
   "nbconvert_exporter": "python",
   "pygments_lexer": "ipython3",
   "version": "3.8.10"
  },
  "orig_nbformat": 4
 },
 "nbformat": 4,
 "nbformat_minor": 2
}
